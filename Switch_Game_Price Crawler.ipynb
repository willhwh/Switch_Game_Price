{
 "cells": [
  {
   "cell_type": "code",
   "execution_count": 1,
   "metadata": {},
   "outputs": [],
   "source": [
    "import requests\n",
    "from bs4 import BeautifulSoup\n",
    "import csv\n",
    "import pandas as pd\n",
    "import time\n",
    "import re"
   ]
  },
  {
   "cell_type": "code",
   "execution_count": 2,
   "metadata": {},
   "outputs": [],
   "source": [
    "def filechecker(name):\n",
    "    data=pd.read_csv(name)\n",
    "    print('top 5 of',len(data),'rows from',name, 'data\\n',data.head())"
   ]
  },
  {
   "cell_type": "code",
   "execution_count": 3,
   "metadata": {},
   "outputs": [],
   "source": [
    "import _thread\n",
    "import threading"
   ]
  },
  {
   "cell_type": "code",
   "execution_count": 4,
   "metadata": {},
   "outputs": [],
   "source": [
    "item_link=[]\n",
    "def swg_crawler(link,filename='swg_brief.csv'):\n",
    "    response=requests.get(link)\n",
    "    soup=BeautifulSoup(response.text,'html.parser')\n",
    "    \n",
    "    games=soup.find_all('div',{'class':'cell'})\n",
    "    games\n",
    "    for game in games:\n",
    "        describe=game.find('div',{'class':'h6 name'}).text.strip()\n",
    "\n",
    "        try:\n",
    "            describe.split('\\n')[0]\n",
    "            name=describe.split('\\n')[0]\n",
    "        except:\n",
    "            name=[]\n",
    "            \n",
    "        try:\n",
    "            describe.split('\\n')[1]\n",
    "            discount=describe.split('\\n')[1]\n",
    "        except:\n",
    "            discount=[]\n",
    "            \n",
    "        try:\n",
    "            describe.split('\\n')[2]\n",
    "            tag=describe.split('\\n')[2]\n",
    "        except:\n",
    "            tag=[]\n",
    "            \n",
    "        try:\n",
    "            original_price=game.find('s',{'class':'text-muted'}).text.strip()\n",
    "        except:\n",
    "            original_price=[]\n",
    "            \n",
    "        try:\n",
    "            discount_price=game.find('strong').text.strip()\n",
    "        except:\n",
    "            discount_price=[]\n",
    "            \n",
    "        try:\n",
    "            deadline=game.find('div',{'class':'w-100'}).find('small').text.strip()\n",
    "        except:\n",
    "            deadline=[]\n",
    "            \n",
    "        \n",
    "        link=game.find('a',{'class':'main-link'})['href']\n",
    "        global item_link\n",
    "        item_link.append('https://www.dekudeals.com'+link)\n",
    "        \n",
    "        with open(filename,\"a+\",encoding='utf-8') as file:\n",
    "            writer = csv.writer(file, delimiter=',')\n",
    "            writer.writerow([name,discount,tag,original_price,discount_price,deadline])\n",
    "        "
   ]
  },
  {
   "cell_type": "code",
   "execution_count": 5,
   "metadata": {},
   "outputs": [],
   "source": [
    "def swg_item_crawler(link,filename='swg_detail.csv'):\n",
    "    response=requests.get(link)\n",
    "    soup=BeautifulSoup(response.text,'html.parser')\n",
    "    name=soup.find('span',{'class':'display-5'}).text\n",
    "    #name\n",
    "    info=soup.find_all('li',{'class':'list-group-item'})\n",
    "    genre=[]\n",
    "    publisher=[]\n",
    "    size=[]\n",
    "    release_date=[]\n",
    "    metascore=[]\n",
    "    userscore=[]\n",
    "    language=[]\n",
    "    play_mode=[]\n",
    "    for i in info:\n",
    "  \n",
    "        if 'Genre' in i.text:\n",
    "            genre= i.text.split(': ')[1:]\n",
    "            #print(genre)\n",
    "        if 'Publisher' in i.text:\n",
    "            publisher=i.text.split(': ')[1:]\n",
    "            #print(publisher)\n",
    "        if 'Download' in i.text:\n",
    "            size=i.text.split(': ')[1:]\n",
    "            #print(size)\n",
    "        if 'Release' in i.text:\n",
    "            release_date=i.text.split(': ')[1:]\n",
    "            #print(release_date)\n",
    "        if 'Metacritic' in i.text:\n",
    "            metascore=i.text.split(' ')[1]\n",
    "            userscore=i.text.split(' ')[2]\n",
    "            #print(metascore)\n",
    "            #print(userscore)\n",
    "        if 'Language' in i.text:\n",
    "            language=i.text.split(': ')[1:]\n",
    "            #print(language)\n",
    "        if 'Play modes' in i.text:\n",
    "            play_mode=i.text.split(': ')[1:]\n",
    "            #print(play_mode)\n",
    "    stores=soup.find_all('tr',{'class':'table-primary'})\n",
    "    loc={}\n",
    "    for store in stores:\n",
    "        try:\n",
    "            store_loc=store.find('img')['alt']\n",
    "            version=store.find('td',{'class':'version'}).text.strip()\n",
    "            price,discount=(store.find('div',{'class','btn-primary'}).text.strip().split('\\n'))\n",
    "            loc.update({store_loc:[version,price,discount]})\n",
    "        except:\n",
    "            pass\n",
    "    #print(loc)\n",
    "    with open(filename,\"a+\",encoding='utf-8') as file:\n",
    "        writer = csv.writer(file, delimiter=',')\n",
    "        writer.writerow([name,genre,publisher,size,release_date,metascore,userscore,language,play_mode,loc])"
   ]
  },
  {
   "cell_type": "code",
   "execution_count": 6,
   "metadata": {},
   "outputs": [],
   "source": [
    "with open('swg_brief.csv',\"a+\",encoding='utf-8') as file:\n",
    "            writer = csv.writer(file, delimiter=',')\n",
    "            writer.writerow(['Name','Discount','Tag','Original_Price','Discount_Price','Deadline'])\n",
    "\n",
    "with open('swg_detail.csv',\"a+\",encoding='utf-8') as file:\n",
    "            writer = csv.writer(file, delimiter=',')\n",
    "            writer.writerow(['Name','Genre','Tag','Publisher','Download_Size','Release_Date','MetaScroe','UserScroe','Language','Play_Modes'])"
   ]
  },
  {
   "cell_type": "code",
   "execution_count": 7,
   "metadata": {},
   "outputs": [
    {
     "data": {
      "text/plain": [
       "12"
      ]
     },
     "execution_count": 7,
     "metadata": {},
     "output_type": "execute_result"
    }
   ],
   "source": [
    "#get the largest page number\n",
    "link='https://www.dekudeals.com/hottest?page=1'\n",
    "r=requests.get(link)\n",
    "soup=BeautifulSoup(r.text,'html5lib')\n",
    "maxpage=int(soup.find_all('a',{'class':'page-link'})[-2].text)+1\n",
    "maxpage"
   ]
  },
  {
   "cell_type": "code",
   "execution_count": 8,
   "metadata": {},
   "outputs": [
    {
     "data": {
      "text/plain": [
       "['https://www.dekudeals.com/hottest?page=1',\n",
       " 'https://www.dekudeals.com/hottest?page=2',\n",
       " 'https://www.dekudeals.com/hottest?page=3',\n",
       " 'https://www.dekudeals.com/hottest?page=4',\n",
       " 'https://www.dekudeals.com/hottest?page=5',\n",
       " 'https://www.dekudeals.com/hottest?page=6',\n",
       " 'https://www.dekudeals.com/hottest?page=7',\n",
       " 'https://www.dekudeals.com/hottest?page=8',\n",
       " 'https://www.dekudeals.com/hottest?page=9',\n",
       " 'https://www.dekudeals.com/hottest?page=10',\n",
       " 'https://www.dekudeals.com/hottest?page=11']"
      ]
     },
     "execution_count": 8,
     "metadata": {},
     "output_type": "execute_result"
    }
   ],
   "source": [
    "main='https://www.dekudeals.com/'\n",
    "link_list=[]\n",
    "for i in range(1,maxpage):\n",
    "    link_list.append(main+'hottest?page='+str(i))\n",
    "link_list"
   ]
  },
  {
   "cell_type": "code",
   "execution_count": 9,
   "metadata": {
    "scrolled": false
   },
   "outputs": [
    {
     "name": "stdout",
     "output_type": "stream",
     "text": [
      "4.10225772857666 secs spend to craw these 11 pages\n",
      "top 5 of 388 rows from swg_brief.csv data\n",
      "                                       Name Discount                   Tag  \\\n",
      "0          The Escapists: Complete Edition     -80%  Matches previous low   \n",
      "1                      Super Mario Odyssey     -17%                    []   \n",
      "2                                Hard West     -90%  Matches previous low   \n",
      "3  The Legend of Zelda: Breath of the Wild     -18%                    []   \n",
      "4                   Katamari Damacy REROLL     -33%                    []   \n",
      "\n",
      "  Original_Price Discount_Price          Deadline  \n",
      "0         $14.99          $2.99  Sale ends May 24  \n",
      "1         $59.99         $49.99                []  \n",
      "2         $19.99          $1.99  Sale ends May 27  \n",
      "3         $59.99         $49.49                []  \n",
      "4         $29.99         $19.99                []  \n"
     ]
    }
   ],
   "source": [
    "threads=[]\n",
    "#build all the tasks \n",
    "for link in link_list:\n",
    "    thread = threading.Thread(target=swg_crawler,args=(link,'swg_brief.csv'))\n",
    "    threads.append(thread) \n",
    " \n",
    "                              \n",
    "startTime=time.time()                              \n",
    "#start all the tasks at once\n",
    "for thread in threads:\n",
    "    thread.start()\n",
    "    \n",
    "#wait for all the tasks to finish\n",
    "for thread in threads:\n",
    "    thread.join()\n",
    "                              \n",
    "finishTime = time.time()\n",
    "print(finishTime - startTime,'secs spend to craw these {0} pages'.format(len(link_list)))\n",
    "\n",
    "      \n",
    "filechecker('swg_brief.csv')\n"
   ]
  },
  {
   "cell_type": "code",
   "execution_count": 10,
   "metadata": {},
   "outputs": [],
   "source": [
    "import _thread"
   ]
  },
  {
   "cell_type": "code",
   "execution_count": 13,
   "metadata": {
    "scrolled": false
   },
   "outputs": [
    {
     "name": "stdout",
     "output_type": "stream",
     "text": [
      "35.039695024490356 secs spend to craw these 388 games\n",
      "top 5 of 785 rows from swg_detail.csv data\n",
      "                                                 Name  \\\n",
      "0              Night Trap - 25th Anniversary Edition   \n",
      "1        Mario + Rabbids Kingdom Battle Gold Edition   \n",
      "2  Baldur's Gate and Baldur's Gate II: Enhanced E...   \n",
      "3                                      Blazing Beaks   \n",
      "4                              Degrees of Separation   \n",
      "\n",
      "                                          Genre                    Tag  \\\n",
      "0                            ['Action, Puzzle']  ['Limited Run Games']   \n",
      "1                       ['Adventure, Strategy']            ['Ubisoft']   \n",
      "2                   ['Role-Playing, Adventure']            ['Beamdog']   \n",
      "3  ['Action, Multiplayer, Party, Role-Playing']         ['QubicGames']   \n",
      "4           ['Platformer, Puzzle, Multiplayer']        ['Modus Games']   \n",
      "\n",
      "      Publisher                                      Download_Size  \\\n",
      "0    ['6.2 GB']                                ['August 24, 2018']   \n",
      "1  ['4.438 GB']  ['NA', 'November 16, 2017EU', 'November 23, 20...   \n",
      "2    ['5.6 GB']                               ['October 15, 2019']   \n",
      "3    ['267 MB']                                   ['May 10, 2019']   \n",
      "4    ['484 MB']  ['NA/EU', 'February 14, 2019JP', 'January 16, ...   \n",
      "\n",
      "  Release_Date MetaScroe                                          UserScroe  \\\n",
      "0          tbd       tbd                      ['Japanese, English, French']   \n",
      "1          tbd       6.8                                                 []   \n",
      "2           73       tbd                        ['English, French, German']   \n",
      "3           80       8.1  ['Japanese, English, Portuguese, Spanish, Fren...   \n",
      "4           68       7.3  ['English, Portuguese, Spanish, French, German...   \n",
      "\n",
      "                     Language  \\\n",
      "0  ['TV, Tabletop, Handheld']   \n",
      "1                          []   \n",
      "2  ['TV, Tabletop, Handheld']   \n",
      "3  ['TV, Tabletop, Handheld']   \n",
      "4  ['TV, Tabletop, Handheld']   \n",
      "\n",
      "                                          Play_Modes  \n",
      "0  {'Nintendo eShop': ['Digital Download', '$1.49...  \n",
      "1  {'Nintendo eShop': ['Digital Download', '$19.9...  \n",
      "2     {'Amazon.com': ['Physical', '$29.83', '-40%']}  \n",
      "3  {'Nintendo eShop': ['Digital Download', '$1.99...  \n",
      "4  {'Nintendo eShop': ['Digital Download', '$1.99...  \n"
     ]
    }
   ],
   "source": [
    "startTime=time.time()     \n",
    "n=0\n",
    "for link in item_link:\n",
    "    n=n+1\n",
    "    _thread.start_new_thread(swg_item_crawler, (link, ) )\n",
    "    if n%50==0:\n",
    "        n=0\n",
    "        time.sleep(5)\n",
    "\n",
    "                                  \n",
    "finishTime = time.time()\n",
    "print(finishTime - startTime,'secs spend to craw these {0} games'.format(len(item_link)))\n",
    "\n",
    "filechecker('swg_detail.csv')"
   ]
  },
  {
   "cell_type": "code",
   "execution_count": 14,
   "metadata": {
    "scrolled": true
   },
   "outputs": [
    {
     "name": "stdout",
     "output_type": "stream",
     "text": [
      "157.57485103607178 secs spend to craw these 388 games\n",
      "top 5 of 387 rows from swg_detail_single.csv data\n",
      "            The Escapists: Complete Edition  \\\n",
      "0                      Super Mario Odyssey   \n",
      "1                                Hard West   \n",
      "2  The Legend of Zelda: Breath of the Wild   \n",
      "3                   Katamari Damacy REROLL   \n",
      "4                              Flat Heroes   \n",
      "\n",
      "         ['Role-Playing, Simulation, Puzzle']                      ['Team17']  \\\n",
      "0                      ['Platformer, Action']                    ['Nintendo']   \n",
      "1     ['Adventure, Simulation, Role-Playing']       ['Forever Entertainment']   \n",
      "2         ['Adventure, Action, Role-Playing']                    ['Nintendo']   \n",
      "3                                  ['Puzzle']  ['BANDAI NAMCO Entertainment']   \n",
      "4  ['Action, Application, Party, Platformer']            ['Parallel Circles']   \n",
      "\n",
      "    ['455 MB']  ['NA/EU', 'September 25, 2018JP', 'May 23, 2019']   67  6.0  \\\n",
      "0   ['5.2 GB']                               ['October 27, 2017']   97  8.9   \n",
      "1   ['5.5 GB']                                 ['March  7, 2019']  tbd  6.5   \n",
      "2  ['13.5 GB']                                 ['March  3, 2017']   97  8.6   \n",
      "3     ['3 GB']  ['NA/EU', 'December  7, 2018JP', 'December 20,...   87  8.4   \n",
      "4   ['149 MB']                                ['August  2, 2018']   82  8.3   \n",
      "\n",
      "                ['English, Spanish, French, German']  \\\n",
      "0  ['Japanese, English, Spanish, French, German, ...   \n",
      "1               ['German, English, French, Russian']   \n",
      "2  ['Japanese, English, Spanish, French, German, ...   \n",
      "3  ['Japanese, English, Spanish, French, German, ...   \n",
      "4  ['Japanese, English, Spanish, French, German, ...   \n",
      "\n",
      "   ['TV, Tabletop, Handheld']  \\\n",
      "0  ['TV, Tabletop, Handheld']   \n",
      "1  ['TV, Tabletop, Handheld']   \n",
      "2  ['TV, Tabletop, Handheld']   \n",
      "3  ['TV, Tabletop, Handheld']   \n",
      "4  ['TV, Tabletop, Handheld']   \n",
      "\n",
      "  {'Nintendo eShop': ['Digital Download', '$2.99', '-80%']}  \n",
      "0         {'Target': ['Physical', '$49.99', '-17%']}         \n",
      "1  {'Nintendo eShop': ['Digital Download', '$1.99...         \n",
      "2         {'Target': ['Physical', '$49.49', '-18%']}         \n",
      "3       {'GameStop': ['Physical', '$19.99', '-33%']}         \n",
      "4  {'Nintendo eShop': ['Digital Download', '$1.99...         \n"
     ]
    }
   ],
   "source": [
    "startTime=time.time()     \n",
    "for link in item_link:\n",
    "    swg_item_crawler(link,'swg_detail_single.csv')\n",
    "finishTime = time.time()\n",
    "print(finishTime - startTime,'secs spend to craw these {0} games'.format(len(item_link)))\n",
    "\n",
    "filechecker('swg_detail_single.csv')"
   ]
  },
  {
   "cell_type": "code",
   "execution_count": null,
   "metadata": {},
   "outputs": [],
   "source": []
  },
  {
   "cell_type": "code",
   "execution_count": null,
   "metadata": {},
   "outputs": [],
   "source": []
  },
  {
   "cell_type": "code",
   "execution_count": null,
   "metadata": {},
   "outputs": [],
   "source": []
  },
  {
   "cell_type": "code",
   "execution_count": null,
   "metadata": {},
   "outputs": [],
   "source": []
  },
  {
   "cell_type": "code",
   "execution_count": null,
   "metadata": {},
   "outputs": [],
   "source": []
  }
 ],
 "metadata": {
  "kernelspec": {
   "display_name": "Python 3",
   "language": "python",
   "name": "python3"
  },
  "language_info": {
   "codemirror_mode": {
    "name": "ipython",
    "version": 3
   },
   "file_extension": ".py",
   "mimetype": "text/x-python",
   "name": "python",
   "nbconvert_exporter": "python",
   "pygments_lexer": "ipython3",
   "version": "3.7.4"
  }
 },
 "nbformat": 4,
 "nbformat_minor": 2
}
